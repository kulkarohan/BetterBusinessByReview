{
 "cells": [
  {
   "cell_type": "code",
   "execution_count": 1,
   "metadata": {},
   "outputs": [
    {
     "name": "stdout",
     "output_type": "stream",
     "text": [
      "Processing: http://www.amazon.com/dp/B0046UR4F4\n",
      "Processing: http://www.amazon.com/dp/B00UZKG8QU\n"
     ]
    }
   ],
   "source": [
    "from lxml import html  \n",
    "import csv,os,json\n",
    "import requests\n",
    "# from exceptions import ValueError\n",
    "from time import sleep\n",
    "\n",
    "def AmzonParser(url):\n",
    "    headers = {'User-Agent': 'Mozilla/5.0 (X11; Linux x86_64)    AppleWebKit/537.36 (KHTML, like Gecko) Chrome/42.0.2311.90 Safari/537.36'}\n",
    "    page = requests.get(url,headers=headers)\n",
    "    while True:\n",
    "        sleep(3)\n",
    "        try:\n",
    "            doc = html.fromstring(page.content)\n",
    "            XPATH_NAME = '//h1[@id=\"title\"]//text()'\n",
    "            XPATH_SALE_PRICE = '//span[contains(@id,\"ourprice\") or contains(@id,\"saleprice\")]/text()'\n",
    "            XPATH_ORIGINAL_PRICE = '//td[contains(text(),\"List Price\") or contains(text(),\"M.R.P\") or contains(text(),\"Price\")]/following-sibling::td/text()'\n",
    "            XPATH_CATEGORY = '//a[@class=\"a-link-normal a-color-tertiary\"]//text()'\n",
    "            XPATH_AVAILABILITY = '//div[@id=\"availability\"]//text()'\n",
    "\n",
    "            RAW_NAME = doc.xpath(XPATH_NAME)\n",
    "            RAW_SALE_PRICE = doc.xpath(XPATH_SALE_PRICE)\n",
    "            RAW_CATEGORY = doc.xpath(XPATH_CATEGORY)\n",
    "            RAW_ORIGINAL_PRICE = doc.xpath(XPATH_ORIGINAL_PRICE)\n",
    "            RAw_AVAILABILITY = doc.xpath(XPATH_AVAILABILITY)\n",
    "\n",
    "            NAME = ' '.join(''.join(RAW_NAME).split()) if RAW_NAME else None\n",
    "            SALE_PRICE = ' '.join(''.join(RAW_SALE_PRICE).split()).strip() if RAW_SALE_PRICE else None\n",
    "            CATEGORY = ' > '.join([i.strip() for i in RAW_CATEGORY]) if RAW_CATEGORY else None\n",
    "            ORIGINAL_PRICE = ''.join(RAW_ORIGINAL_PRICE).strip() if RAW_ORIGINAL_PRICE else None\n",
    "            AVAILABILITY = ''.join(RAw_AVAILABILITY).strip() if RAw_AVAILABILITY else None\n",
    "\n",
    "            if not ORIGINAL_PRICE:\n",
    "                ORIGINAL_PRICE = SALE_PRICE\n",
    "\n",
    "            if page.status_code!=200:\n",
    "                raise ValueError('captha')\n",
    "            data = {\n",
    "                    'NAME':NAME,\n",
    "                    'SALE_PRICE':SALE_PRICE,\n",
    "                    'CATEGORY':CATEGORY,\n",
    "                    'ORIGINAL_PRICE':ORIGINAL_PRICE,\n",
    "                    'AVAILABILITY':AVAILABILITY,\n",
    "                    'URL':url,\n",
    "                    }\n",
    "\n",
    "            return data\n",
    "        except Exception as e:\n",
    "            print(e)\n",
    "\n",
    "def ReadAsin():\n",
    "# AsinList = csv.DictReader(open(os.path.join(os.path.dirname(__file__),\"Asinfeed.csv\")))\n",
    "    AsinList = ['B0046UR4F4',\n",
    "#                 'B00JGTVU5A',\n",
    "#                 'B00GJYCIVK',\n",
    "#                 'B00EPGK7CQ',\n",
    "#                 'B00EPGKA4G',\n",
    "#                 'B00YW5DLB4',\n",
    "#                 'B00KGD0628',\n",
    "#                 'B00O9A48N2',\n",
    "#                 'B00O9A4MEW',\n",
    "                'B00UZKG8QU',]\n",
    "    extracted_data = []\n",
    "    for i in AsinList:\n",
    "        url = \"http://www.amazon.com/dp/\"+i\n",
    "        print(\"Processing: \"+ url)\n",
    "        extracted_data.append(AmzonParser(url))\n",
    "        sleep(5)\n",
    "    f=open('data.json','w')\n",
    "    json.dump(extracted_data,f,indent=4)\n",
    "\n",
    "\n",
    "if __name__ == \"__main__\":\n",
    "    ReadAsin()"
   ]
  },
  {
   "cell_type": "code",
   "execution_count": 2,
   "metadata": {},
   "outputs": [
    {
     "data": {
      "text/html": [
       "<div>\n",
       "<style scoped>\n",
       "    .dataframe tbody tr th:only-of-type {\n",
       "        vertical-align: middle;\n",
       "    }\n",
       "\n",
       "    .dataframe tbody tr th {\n",
       "        vertical-align: top;\n",
       "    }\n",
       "\n",
       "    .dataframe thead th {\n",
       "        text-align: right;\n",
       "    }\n",
       "</style>\n",
       "<table border=\"1\" class=\"dataframe\">\n",
       "  <thead>\n",
       "    <tr style=\"text-align: right;\">\n",
       "      <th></th>\n",
       "      <th>NAME</th>\n",
       "      <th>SALE_PRICE</th>\n",
       "      <th>CATEGORY</th>\n",
       "      <th>ORIGINAL_PRICE</th>\n",
       "      <th>AVAILABILITY</th>\n",
       "      <th>URL</th>\n",
       "    </tr>\n",
       "  </thead>\n",
       "  <tbody>\n",
       "    <tr>\n",
       "      <td>0</td>\n",
       "      <td>G-Technology G-SPEED eS PRO High-Performance Fail-Safe RAID Solution for HD/2K Production 8TB (0G01873)</td>\n",
       "      <td>None</td>\n",
       "      <td>Electronics &gt; Computers &amp; Accessories &gt; Data Storage &gt; External Hard Drives</td>\n",
       "      <td>None</td>\n",
       "      <td>Available from these sellers.</td>\n",
       "      <td>http://www.amazon.com/dp/B0046UR4F4</td>\n",
       "    </tr>\n",
       "    <tr>\n",
       "      <td>1</td>\n",
       "      <td>G-Technology G-RAID USB Removable Dual Drive Storage System 8TB (0G04069)</td>\n",
       "      <td>$529.95</td>\n",
       "      <td>Electronics &gt; Computers &amp; Accessories &gt; Data Storage</td>\n",
       "      <td>$529.95</td>\n",
       "      <td>In stock.</td>\n",
       "      <td>http://www.amazon.com/dp/B00UZKG8QU</td>\n",
       "    </tr>\n",
       "  </tbody>\n",
       "</table>\n",
       "</div>"
      ],
      "text/plain": [
       "                                                                                                      NAME  \\\n",
       "0  G-Technology G-SPEED eS PRO High-Performance Fail-Safe RAID Solution for HD/2K Production 8TB (0G01873)   \n",
       "1                                G-Technology G-RAID USB Removable Dual Drive Storage System 8TB (0G04069)   \n",
       "\n",
       "  SALE_PRICE  \\\n",
       "0       None   \n",
       "1    $529.95   \n",
       "\n",
       "                                                                      CATEGORY  \\\n",
       "0  Electronics > Computers & Accessories > Data Storage > External Hard Drives   \n",
       "1                         Electronics > Computers & Accessories > Data Storage   \n",
       "\n",
       "  ORIGINAL_PRICE                   AVAILABILITY  \\\n",
       "0           None  Available from these sellers.   \n",
       "1        $529.95                      In stock.   \n",
       "\n",
       "                                   URL  \n",
       "0  http://www.amazon.com/dp/B0046UR4F4  \n",
       "1  http://www.amazon.com/dp/B00UZKG8QU  "
      ]
     },
     "execution_count": 2,
     "metadata": {},
     "output_type": "execute_result"
    }
   ],
   "source": [
    "import pandas as pd\n",
    "pd.options.display.max_rows = 999\n",
    "pd.options.display.max_columns = 999\n",
    "pd.set_option('max_colwidth', 600)\n",
    "pd.read_json('data.json')"
   ]
  },
  {
   "cell_type": "code",
   "execution_count": 21,
   "metadata": {},
   "outputs": [
    {
     "name": "stdout",
     "output_type": "stream",
     "text": [
      "----------------------------------------\n",
      "Glass-House-Climate-Millennium-ebook/dp/B005U3U69C\n",
      "----------------------------------------\n",
      "The-Japanese-Observer-ebook/dp/B0078FMYD6\n",
      "----------------------------------------\n",
      "Falling-Through-Water-ebook/dp/B009VJ1622\n",
      "----------------------------------------\n"
     ]
    }
   ],
   "source": [
    "countries=['com','co.uk','ca','de']\n",
    "books=[\n",
    "        '''http://www.amazon.%s/Glass-House-Climate-Millennium-ebook/dp/B005U3U69C''',\n",
    "        '''http://www.amazon.%s/The-Japanese-Observer-ebook/dp/B0078FMYD6''',\n",
    "        '''http://www.amazon.%s/Falling-Through-Water-ebook/dp/B009VJ1622''',\n",
    "      ]\n",
    "import urllib3\n",
    "for book in books:\n",
    "#     print('-'*40)\n",
    "#     print(book.split('%s/')[1])\n",
    "    for country in countries:\n",
    "        asin=book.split('/')[-1]; title=book.split('/')[3]\n",
    "        url='''http://www.amazon.%s/product-reviews/%s'''%(country,asin)\n",
    "        try: f = urllib3.PoolManager(url)\n",
    "        except: \n",
    "            page=\"\"\n",
    "            page=f.read().lower()\n",
    "            print('%s=%s'%(country, page.count('member-review')))\n",
    "# print('-'*40)"
   ]
  },
  {
   "cell_type": "code",
   "execution_count": 9,
   "metadata": {},
   "outputs": [
    {
     "name": "stdout",
     "output_type": "stream",
     "text": [
      "Requirement already satisfied: urllib3 in c:\\users\\lilyx\\appdata\\roaming\\python\\python37\\site-packages (1.24.3)\n"
     ]
    }
   ],
   "source": [
    "import sys\n",
    "! pip install urllib3"
   ]
  },
  {
   "cell_type": "code",
   "execution_count": null,
   "metadata": {},
   "outputs": [],
   "source": []
  }
 ],
 "metadata": {
  "kernelspec": {
   "display_name": "Python 3",
   "language": "python",
   "name": "python3"
  },
  "language_info": {
   "codemirror_mode": {
    "name": "ipython",
    "version": 3
   },
   "file_extension": ".py",
   "mimetype": "text/x-python",
   "name": "python",
   "nbconvert_exporter": "python",
   "pygments_lexer": "ipython3",
   "version": "3.7.4"
  }
 },
 "nbformat": 4,
 "nbformat_minor": 4
}
