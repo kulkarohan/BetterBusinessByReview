{
 "cells": [
  {
   "cell_type": "code",
   "execution_count": 9,
   "metadata": {},
   "outputs": [],
   "source": [
    "import requests\n",
    "import json"
   ]
  },
  {
   "cell_type": "code",
   "execution_count": 11,
   "metadata": {},
   "outputs": [
    {
     "data": {
      "text/plain": [
       "[{'id': 'X9-Jnr0MkwijrT4dU3ck3A',\n",
       "  'time': '2019-11-02 14:01:44',\n",
       "  'text': 'This review will be short because our visit was a brief one: we stopped in on our way to the nearby art museum from a really awful Korean lunch in the...',\n",
       "  'rating': 5},\n",
       " {'id': 'NxRVdueMHvG21zZkB7DyFw',\n",
       "  'time': '2019-09-05 21:23:26',\n",
       "  'text': 'All the coffee shop necessities exist here and then some. What I loved most about this place was how environmentally friendly it is. You will be served in...',\n",
       "  'rating': 5},\n",
       " {'id': 'ASonIcW7WzdtcdrWXcZijw',\n",
       "  'time': '2019-07-29 17:02:26',\n",
       "  'text': 'This cafe is on the small side (a few tables) but it has wifi and outlets so you can get some work done if you can snag a seat. There are also large windows...',\n",
       "  'rating': 5}]"
      ]
     },
     "execution_count": 11,
     "metadata": {},
     "output_type": "execute_result"
    }
   ],
   "source": [
    "url='http://127.0.0.1:5000/yelp/Kt4NZ9IXvRCHI8qvV0h8qg'\n",
    " \n",
    "# params = {'url_submitted':'https://www.yelp.com/biz/amélie-new-york'}\n",
    "# params = json.dumps(params)\n",
    "\n",
    "req=requests.get(url)\n",
    "\n",
    "req.json()\n",
    "#endpoint web is pinging needs to get post"
   ]
  },
  {
   "cell_type": "code",
   "execution_count": null,
   "metadata": {},
   "outputs": [],
   "source": []
  }
 ],
 "metadata": {
  "kernelspec": {
   "display_name": "Python 3",
   "language": "python",
   "name": "python3"
  },
  "language_info": {
   "codemirror_mode": {
    "name": "ipython",
    "version": 3
   },
   "file_extension": ".py",
   "mimetype": "text/x-python",
   "name": "python",
   "nbconvert_exporter": "python",
   "pygments_lexer": "ipython3",
   "version": "3.7.4"
  }
 },
 "nbformat": 4,
 "nbformat_minor": 4
}
